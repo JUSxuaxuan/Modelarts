{
 "cells": [
  {
   "cell_type": "code",
   "execution_count": 1,
   "metadata": {},
   "outputs": [
    {
     "name": "stdout",
     "output_type": "stream",
     "text": [
      "Collecting keras_applications==1.0.6\n",
      "  Downloading http://repo.myhuaweicloud.com/repository/pypi/packages/3f/c4/2ff40221029f7098d58f8d7fb99b97e8100f3293f9856f0fb5834bef100b/Keras_Applications-1.0.6-py2.py3-none-any.whl (44kB)\n",
      "\u001b[K    100% |████████████████████████████████| 51kB 64.7MB/s ta 0:00:01\n",
      "\u001b[?25hCollecting keras==2.2.4\n",
      "  Downloading http://repo.myhuaweicloud.com/repository/pypi/packages/5e/10/aa32dad071ce52b5502266b5c659451cfd6ffcbf14e6c8c4f16c0ff5aaab/Keras-2.2.4-py2.py3-none-any.whl (312kB)\n",
      "\u001b[K    100% |████████████████████████████████| 317kB 104.2MB/s ta 0:00:01\n",
      "\u001b[?25hCollecting numpy>=1.9.1 (from keras_applications==1.0.6)\n",
      "  Downloading http://repo.myhuaweicloud.com/repository/pypi/packages/0e/46/ae6773894f7eacf53308086287897ec568eac9768918d913d5b9d366c5db/numpy-1.17.3-cp36-cp36m-manylinux1_x86_64.whl (20.0MB)\n",
      "\u001b[K    100% |████████████████████████████████| 20.0MB 102.0MB/s ta 0:00:016kB 75.9MB/s eta 0:00:01B/s eta 0:00:01   49% |███████████████▊                | 9.8MB 96.9MB/s eta 0:00:01�██████████████▋         | 14.2MB 95.3MB/s eta 0:00:01��████ | 19.4MB 107.3MB/s eta 0:00:01\n",
      "\u001b[?25hCollecting h5py (from keras_applications==1.0.6)\n",
      "  Downloading http://repo.myhuaweicloud.com/repository/pypi/packages/60/06/cafdd44889200e5438b897388f3075b52a8ef01f28a17366d91de0fa2d05/h5py-2.10.0-cp36-cp36m-manylinux1_x86_64.whl (2.9MB)\n",
      "\u001b[K    100% |████████████████████████████████| 2.9MB 101.4MB/s ta 0:00:01�████                       | 798kB 103.7MB/s eta 0:00:01\n",
      "\u001b[?25hCollecting keras-preprocessing>=1.0.5 (from keras==2.2.4)\n",
      "  Downloading http://repo.myhuaweicloud.com/repository/pypi/packages/28/6a/8c1f62c37212d9fc441a7e26736df51ce6f0e38455816445471f10da4f0a/Keras_Preprocessing-1.1.0-py2.py3-none-any.whl (41kB)\n",
      "\u001b[K    100% |████████████████████████████████| 51kB 78.3MB/s ta 0:00:01\n",
      "\u001b[?25hCollecting pyyaml (from keras==2.2.4)\n",
      "  Downloading http://repo.myhuaweicloud.com/repository/pypi/packages/e3/e8/b3212641ee2718d556df0f23f78de8303f068fe29cdaa7a91018849582fe/PyYAML-5.1.2.tar.gz (265kB)\n",
      "\u001b[K    100% |████████████████████████████████| 266kB 104.6MB/s ta 0:00:01\n",
      "\u001b[?25hCollecting scipy>=0.14 (from keras==2.2.4)\n",
      "  Downloading http://repo.myhuaweicloud.com/repository/pypi/packages/29/50/a552a5aff252ae915f522e44642bb49a7b7b31677f9580cfd11bcc869976/scipy-1.3.1-cp36-cp36m-manylinux1_x86_64.whl (25.2MB)\n",
      "\u001b[K    100% |████████████████████████████████| 25.2MB 58.4MB/s ta 0:00:011                  | 6.0MB 78.4MB/s eta 0:00:01B/s eta 0:00:01██████            | 15.7MB 107.2MB/s eta 0:00:01�█████████████▋        | 18.6MB 106.2MB/s eta 0:00:01.6MB/s eta 0:00:01�█████████████████████   | 22.8MB 106.3MB/s eta 0:00:01\n",
      "\u001b[?25hCollecting six>=1.9.0 (from keras==2.2.4)\n",
      "  Downloading http://repo.myhuaweicloud.com/repository/pypi/packages/73/fb/00a976f728d0d1fecfe898238ce23f502a721c0ac0ecfedb80e0d88c64e9/six-1.12.0-py2.py3-none-any.whl\n",
      "Building wheels for collected packages: pyyaml\n",
      "  Running setup.py bdist_wheel for pyyaml ... \u001b[?25ldone\n",
      "\u001b[?25h  Stored in directory: /home/ma-user/.cache/pip/wheels/b8/f2/93/0b52ea3f4f41d99c6ac25eee588b7ddb3d59a37e1d5457c690\n",
      "Successfully built pyyaml\n",
      "Installing collected packages: numpy, six, h5py, keras-applications, keras-preprocessing, pyyaml, scipy, keras\n",
      "  Found existing installation: numpy 1.16.2\n",
      "    Uninstalling numpy-1.16.2:\n",
      "      Successfully uninstalled numpy-1.16.2\n",
      "  Found existing installation: six 1.11.0\n",
      "    Uninstalling six-1.11.0:\n",
      "      Successfully uninstalled six-1.11.0\n",
      "  Found existing installation: h5py 2.8.0\n",
      "    Uninstalling h5py-2.8.0:\n",
      "      Successfully uninstalled h5py-2.8.0\n",
      "  Found existing installation: Keras-Applications 1.0.2\n",
      "    Uninstalling Keras-Applications-1.0.2:\n",
      "      Successfully uninstalled Keras-Applications-1.0.2\n",
      "  Found existing installation: Keras-Preprocessing 1.0.1\n",
      "    Uninstalling Keras-Preprocessing-1.0.1:\n",
      "      Successfully uninstalled Keras-Preprocessing-1.0.1\n",
      "  Found existing installation: PyYAML 3.12\n",
      "    Uninstalling PyYAML-3.12:\n",
      "      Successfully uninstalled PyYAML-3.12\n",
      "  Found existing installation: scipy 1.0.0\n",
      "    Uninstalling scipy-1.0.0:\n",
      "      Successfully uninstalled scipy-1.0.0\n",
      "  Found existing installation: Keras 2.2.0\n",
      "    Uninstalling Keras-2.2.0:\n",
      "      Successfully uninstalled Keras-2.2.0\n",
      "Successfully installed h5py-2.10.0 keras-2.2.4 keras-applications-1.0.6 keras-preprocessing-1.1.0 numpy-1.17.3 pyyaml-5.1.2 scipy-1.3.1 six-1.12.0\n",
      "\u001b[33mYou are using pip version 9.0.1, however version 19.3 is available.\n",
      "You should consider upgrading via the 'pip install --upgrade pip' command.\u001b[0m\n"
     ]
    }
   ],
   "source": [
    "!pip install --upgrade keras_applications==1.0.6 keras==2.2.4"
   ]
  },
  {
   "cell_type": "code",
   "execution_count": 2,
   "metadata": {},
   "outputs": [
    {
     "name": "stdout",
     "output_type": "stream",
     "text": [
      "Successfully download file modelarts-labs/end2end/image_recognition/dog_and_cat_25000.tar.gz from OBS to local ./dog_and_cat_25000.tar.gz\n"
     ]
    }
   ],
   "source": [
    "import os\n",
    "if os.path.exists('./data') == False:\n",
    "    from modelarts.session import Session\n",
    "    session = Session()\n",
    "    \n",
    "    if session.region_name == 'cn-north-1':\n",
    "        bucket_path=\"modelarts-labs/end2end/image_recognition/dog_and_cat_25000.tar.gz\"\n",
    "    elif session.region_name == 'cn-north-4':\n",
    "        bucket_path=\"modelarts-labs-bj4/end2end/image_recognition/dog_and_cat_25000.tar.gz\"\n",
    "    else:\n",
    "        print(\"请更换地区到北京一或北京四\")\n",
    "\n",
    "    session.download_data(\n",
    "        bucket_path=bucket_path,\n",
    "        path=\"./dog_and_cat_25000.tar.gz\")\n",
    "\n",
    "    # 使用tar命令解压资源包\n",
    "    !tar xf ./dog_and_cat_25000.tar.gz\n",
    "\n",
    "    # 清理压缩包\n",
    "    !rm -f ./dog_and_cat_25000.tar.gz"
   ]
  },
  {
   "cell_type": "code",
   "execution_count": 3,
   "metadata": {},
   "outputs": [
    {
     "name": "stderr",
     "output_type": "stream",
     "text": [
      "Using TensorFlow backend.\n",
      "/home/ma-user/anaconda3/envs/TensorFlow-1.13.1/lib/python3.6/site-packages/tensorflow/python/framework/dtypes.py:526: FutureWarning: Passing (type, 1) or '1type' as a synonym of type is deprecated; in a future version of numpy, it will be understood as (type, (1,)) / '(1,)type'.\n",
      "  _np_qint8 = np.dtype([(\"qint8\", np.int8, 1)])\n",
      "/home/ma-user/anaconda3/envs/TensorFlow-1.13.1/lib/python3.6/site-packages/tensorflow/python/framework/dtypes.py:527: FutureWarning: Passing (type, 1) or '1type' as a synonym of type is deprecated; in a future version of numpy, it will be understood as (type, (1,)) / '(1,)type'.\n",
      "  _np_quint8 = np.dtype([(\"quint8\", np.uint8, 1)])\n",
      "/home/ma-user/anaconda3/envs/TensorFlow-1.13.1/lib/python3.6/site-packages/tensorflow/python/framework/dtypes.py:528: FutureWarning: Passing (type, 1) or '1type' as a synonym of type is deprecated; in a future version of numpy, it will be understood as (type, (1,)) / '(1,)type'.\n",
      "  _np_qint16 = np.dtype([(\"qint16\", np.int16, 1)])\n",
      "/home/ma-user/anaconda3/envs/TensorFlow-1.13.1/lib/python3.6/site-packages/tensorflow/python/framework/dtypes.py:529: FutureWarning: Passing (type, 1) or '1type' as a synonym of type is deprecated; in a future version of numpy, it will be understood as (type, (1,)) / '(1,)type'.\n",
      "  _np_quint16 = np.dtype([(\"quint16\", np.uint16, 1)])\n",
      "/home/ma-user/anaconda3/envs/TensorFlow-1.13.1/lib/python3.6/site-packages/tensorflow/python/framework/dtypes.py:530: FutureWarning: Passing (type, 1) or '1type' as a synonym of type is deprecated; in a future version of numpy, it will be understood as (type, (1,)) / '(1,)type'.\n",
      "  _np_qint32 = np.dtype([(\"qint32\", np.int32, 1)])\n",
      "/home/ma-user/anaconda3/envs/TensorFlow-1.13.1/lib/python3.6/site-packages/tensorflow/python/framework/dtypes.py:535: FutureWarning: Passing (type, 1) or '1type' as a synonym of type is deprecated; in a future version of numpy, it will be understood as (type, (1,)) / '(1,)type'.\n",
      "  np_resource = np.dtype([(\"resource\", np.ubyte, 1)])\n"
     ]
    }
   ],
   "source": [
    "from keras.applications.vgg16 import VGG16\n",
    "from keras.preprocessing import image\n",
    "from keras.applications.resnet50 import preprocess_input, decode_predictions\n",
    "import numpy as np\n",
    "\n",
    "from keras.applications.mobilenetv2 import MobileNetV2\n",
    "from keras.preprocessing import image\n",
    "from keras.models import Model\n",
    "from keras.layers import Dense, GlobalAveragePooling2D\n",
    "from keras import backend as K\n",
    "from keras.models import load_model\n",
    "\n",
    "from keras.preprocessing.image import ImageDataGenerator\n",
    "import os\n",
    "from PIL import Image"
   ]
  },
  {
   "cell_type": "code",
   "execution_count": 4,
   "metadata": {},
   "outputs": [],
   "source": [
    "def load_data():\n",
    "    dirname = \"./data\"\n",
    "    path = \"./data\"\n",
    "\n",
    "    num_train_samples = 25000\n",
    "\n",
    "    x_train = np.empty((num_train_samples, 224,224,3), dtype='uint8')\n",
    "    y_train = np.empty((num_train_samples,1), dtype='uint8')\n",
    "    index = 0\n",
    "    for file in os.listdir(\"./data\"):\n",
    "        image = Image.open(os.path.join(dirname,file)).resize((224,224))\n",
    "        image = np.array(image)\n",
    "        x_train[index,:,:,:] = image\n",
    "\n",
    "        if \"cat\" in file:\n",
    "            y_train[index,0] =1\n",
    "        elif \"dog\" in file:\n",
    "            y_train[index,0] =0\n",
    "\n",
    "        index += 1\n",
    "    return (x_train, y_train)"
   ]
  },
  {
   "cell_type": "code",
   "execution_count": 5,
   "metadata": {},
   "outputs": [
    {
     "name": "stdout",
     "output_type": "stream",
     "text": [
      "(25000, 224, 224, 3)\n",
      "(25000, 1)\n"
     ]
    }
   ],
   "source": [
    "(x_train, y_train) = load_data()\n",
    "print(x_train.shape)\n",
    "print(y_train.shape)"
   ]
  },
  {
   "cell_type": "code",
   "execution_count": 6,
   "metadata": {},
   "outputs": [],
   "source": [
    "from keras.utils import np_utils\n",
    "def process_data(x_train,y_train):\n",
    "    x_train = x_train.astype(np.float32)\n",
    "    x_train /= 255\n",
    "    n_classes = 2\n",
    "    y_train = np_utils.to_categorical(y_train, n_classes)\n",
    "    return x_train,y_train"
   ]
  },
  {
   "cell_type": "code",
   "execution_count": 7,
   "metadata": {},
   "outputs": [
    {
     "name": "stdout",
     "output_type": "stream",
     "text": [
      "(25000, 224, 224, 3)\n",
      "(25000, 2)\n"
     ]
    }
   ],
   "source": [
    "x_train,y_train= process_data(x_train,y_train)\n",
    "print(x_train.shape)\n",
    "print(y_train.shape)"
   ]
  },
  {
   "cell_type": "code",
   "execution_count": 8,
   "metadata": {},
   "outputs": [],
   "source": [
    "def build_model(base_model):\n",
    "    x = base_model.output\n",
    "    x = GlobalAveragePooling2D()(x)\n",
    "    predictions = Dense(2, activation='softmax')(x)\n",
    "    model = Model(inputs=base_model.input, outputs=predictions)\n",
    "    print(type(model))\n",
    "    return model"
   ]
  },
  {
   "cell_type": "code",
   "execution_count": 9,
   "metadata": {},
   "outputs": [
    {
     "name": "stderr",
     "output_type": "stream",
     "text": [
      "WARNING:tensorflow:From /home/ma-user/anaconda3/envs/TensorFlow-1.13.1/lib/python3.6/site-packages/tensorflow/python/framework/op_def_library.py:263: colocate_with (from tensorflow.python.framework.ops) is deprecated and will be removed in a future version.\n",
      "Instructions for updating:\n",
      "Colocations handled automatically by placer.\n"
     ]
    }
   ],
   "source": [
    "base_model = VGG16(weights=None, include_top=False)"
   ]
  },
  {
   "cell_type": "code",
   "execution_count": 10,
   "metadata": {},
   "outputs": [
    {
     "name": "stdout",
     "output_type": "stream",
     "text": [
      "<class 'keras.engine.training.Model'>\n",
      "_________________________________________________________________\n",
      "Layer (type)                 Output Shape              Param #   \n",
      "=================================================================\n",
      "input_1 (InputLayer)         (None, None, None, 3)     0         \n",
      "_________________________________________________________________\n",
      "block1_conv1 (Conv2D)        (None, None, None, 64)    1792      \n",
      "_________________________________________________________________\n",
      "block1_conv2 (Conv2D)        (None, None, None, 64)    36928     \n",
      "_________________________________________________________________\n",
      "block1_pool (MaxPooling2D)   (None, None, None, 64)    0         \n",
      "_________________________________________________________________\n",
      "block2_conv1 (Conv2D)        (None, None, None, 128)   73856     \n",
      "_________________________________________________________________\n",
      "block2_conv2 (Conv2D)        (None, None, None, 128)   147584    \n",
      "_________________________________________________________________\n",
      "block2_pool (MaxPooling2D)   (None, None, None, 128)   0         \n",
      "_________________________________________________________________\n",
      "block3_conv1 (Conv2D)        (None, None, None, 256)   295168    \n",
      "_________________________________________________________________\n",
      "block3_conv2 (Conv2D)        (None, None, None, 256)   590080    \n",
      "_________________________________________________________________\n",
      "block3_conv3 (Conv2D)        (None, None, None, 256)   590080    \n",
      "_________________________________________________________________\n",
      "block3_pool (MaxPooling2D)   (None, None, None, 256)   0         \n",
      "_________________________________________________________________\n",
      "block4_conv1 (Conv2D)        (None, None, None, 512)   1180160   \n",
      "_________________________________________________________________\n",
      "block4_conv2 (Conv2D)        (None, None, None, 512)   2359808   \n",
      "_________________________________________________________________\n",
      "block4_conv3 (Conv2D)        (None, None, None, 512)   2359808   \n",
      "_________________________________________________________________\n",
      "block4_pool (MaxPooling2D)   (None, None, None, 512)   0         \n",
      "_________________________________________________________________\n",
      "block5_conv1 (Conv2D)        (None, None, None, 512)   2359808   \n",
      "_________________________________________________________________\n",
      "block5_conv2 (Conv2D)        (None, None, None, 512)   2359808   \n",
      "_________________________________________________________________\n",
      "block5_conv3 (Conv2D)        (None, None, None, 512)   2359808   \n",
      "_________________________________________________________________\n",
      "block5_pool (MaxPooling2D)   (None, None, None, 512)   0         \n",
      "_________________________________________________________________\n",
      "global_average_pooling2d_1 ( (None, 512)               0         \n",
      "_________________________________________________________________\n",
      "dense_1 (Dense)              (None, 2)                 1026      \n",
      "=================================================================\n",
      "Total params: 14,715,714\n",
      "Trainable params: 14,715,714\n",
      "Non-trainable params: 0\n",
      "_________________________________________________________________\n"
     ]
    }
   ],
   "source": [
    "model = build_model(base_model)\n",
    "model.summary()"
   ]
  },
  {
   "cell_type": "code",
   "execution_count": 11,
   "metadata": {},
   "outputs": [],
   "source": [
    "import keras \n",
    "from keras.callbacks import ModelCheckpoint, EarlyStopping\n",
    "import matplotlib.pyplot as plt"
   ]
  },
  {
   "cell_type": "markdown",
   "metadata": {},
   "source": [
    "# rmsprop优化器"
   ]
  },
  {
   "cell_type": "code",
   "execution_count": 12,
   "metadata": {},
   "outputs": [],
   "source": [
    "opt = keras.optimizers.rmsprop(lr=0.0001, decay=1e-6)\n",
    "model.compile(loss='categorical_crossentropy',\n",
    "              optimizer=opt,\n",
    "              metrics=['accuracy'])"
   ]
  },
  {
   "cell_type": "code",
   "execution_count": 13,
   "metadata": {},
   "outputs": [],
   "source": [
    "es = EarlyStopping(monitor='val_acc', baseline=0.9, patience=30, verbose=1, mode='auto')\n",
    "callbacks = [es]"
   ]
  },
  {
   "cell_type": "code",
   "execution_count": 14,
   "metadata": {},
   "outputs": [
    {
     "name": "stderr",
     "output_type": "stream",
     "text": [
      "WARNING:tensorflow:From /home/ma-user/anaconda3/envs/TensorFlow-1.13.1/lib/python3.6/site-packages/tensorflow/python/ops/math_ops.py:3066: to_int32 (from tensorflow.python.ops.math_ops) is deprecated and will be removed in a future version.\n",
      "Instructions for updating:\n",
      "Use tf.cast instead.\n"
     ]
    },
    {
     "name": "stdout",
     "output_type": "stream",
     "text": [
      "Train on 18750 samples, validate on 6250 samples\n",
      "Epoch 1/31\n",
      "18750/18750 [==============================] - 176s 9ms/step - loss: 0.6772 - acc: 0.5924 - val_loss: 0.6308 - val_acc: 0.6346\n",
      "Epoch 2/31\n",
      "18750/18750 [==============================] - 149s 8ms/step - loss: 0.6235 - acc: 0.6561 - val_loss: 0.5850 - val_acc: 0.6944\n",
      "Epoch 3/31\n",
      "18750/18750 [==============================] - 149s 8ms/step - loss: 0.5665 - acc: 0.7139 - val_loss: 0.5086 - val_acc: 0.7586\n",
      "Epoch 4/31\n",
      "18750/18750 [==============================] - 149s 8ms/step - loss: 0.5118 - acc: 0.7568 - val_loss: 0.4787 - val_acc: 0.7814\n",
      "Epoch 5/31\n",
      "18750/18750 [==============================] - 149s 8ms/step - loss: 0.4605 - acc: 0.7890 - val_loss: 0.4258 - val_acc: 0.8053\n",
      "Epoch 6/31\n",
      "18750/18750 [==============================] - 151s 8ms/step - loss: 0.4143 - acc: 0.8164 - val_loss: 0.3873 - val_acc: 0.8230\n",
      "Epoch 7/31\n",
      "18750/18750 [==============================] - 150s 8ms/step - loss: 0.3634 - acc: 0.8402 - val_loss: 0.3332 - val_acc: 0.8570\n",
      "Epoch 8/31\n",
      "18750/18750 [==============================] - 151s 8ms/step - loss: 0.3135 - acc: 0.8645 - val_loss: 0.2940 - val_acc: 0.8770\n",
      "Epoch 9/31\n",
      "18750/18750 [==============================] - 151s 8ms/step - loss: 0.2762 - acc: 0.8823 - val_loss: 0.2584 - val_acc: 0.8910\n",
      "Epoch 10/31\n",
      "18750/18750 [==============================] - 152s 8ms/step - loss: 0.2417 - acc: 0.8993 - val_loss: 0.2284 - val_acc: 0.9038\n",
      "Epoch 11/31\n",
      "18750/18750 [==============================] - 151s 8ms/step - loss: 0.2096 - acc: 0.9127 - val_loss: 0.2137 - val_acc: 0.9142\n",
      "Epoch 12/31\n",
      "18750/18750 [==============================] - 150s 8ms/step - loss: 0.1936 - acc: 0.9212 - val_loss: 0.2315 - val_acc: 0.9090\n",
      "Epoch 13/31\n",
      "18750/18750 [==============================] - 150s 8ms/step - loss: 0.1711 - acc: 0.9318 - val_loss: 0.1808 - val_acc: 0.9246\n",
      "Epoch 14/31\n",
      "18750/18750 [==============================] - 150s 8ms/step - loss: 0.1473 - acc: 0.9415 - val_loss: 0.1980 - val_acc: 0.9186\n",
      "Epoch 15/31\n",
      "18750/18750 [==============================] - 151s 8ms/step - loss: 0.1330 - acc: 0.9457 - val_loss: 0.1896 - val_acc: 0.9318\n",
      "Epoch 16/31\n",
      "18750/18750 [==============================] - 150s 8ms/step - loss: 0.1226 - acc: 0.9523 - val_loss: 0.2434 - val_acc: 0.9099\n",
      "Epoch 17/31\n",
      "18750/18750 [==============================] - 149s 8ms/step - loss: 0.1052 - acc: 0.9594 - val_loss: 0.1819 - val_acc: 0.9381\n",
      "Epoch 18/31\n",
      "18750/18750 [==============================] - 149s 8ms/step - loss: 0.0994 - acc: 0.9628 - val_loss: 0.2205 - val_acc: 0.9374\n",
      "Epoch 19/31\n",
      "18750/18750 [==============================] - 150s 8ms/step - loss: 0.0884 - acc: 0.9668 - val_loss: 0.1951 - val_acc: 0.9354\n",
      "Epoch 20/31\n",
      "18750/18750 [==============================] - 150s 8ms/step - loss: 0.0837 - acc: 0.9684 - val_loss: 0.3832 - val_acc: 0.9110\n",
      "Epoch 21/31\n",
      "18750/18750 [==============================] - 149s 8ms/step - loss: 0.0769 - acc: 0.9727 - val_loss: 0.2445 - val_acc: 0.9326\n",
      "Epoch 22/31\n",
      "18750/18750 [==============================] - 150s 8ms/step - loss: 0.0684 - acc: 0.9752 - val_loss: 0.1973 - val_acc: 0.9384\n",
      "Epoch 23/31\n",
      "18750/18750 [==============================] - 150s 8ms/step - loss: 0.0668 - acc: 0.9759 - val_loss: 0.1829 - val_acc: 0.9403\n",
      "Epoch 24/31\n",
      "18750/18750 [==============================] - 152s 8ms/step - loss: 0.0600 - acc: 0.9786 - val_loss: 0.2258 - val_acc: 0.9406\n",
      "Epoch 25/31\n",
      "18750/18750 [==============================] - 150s 8ms/step - loss: 0.0571 - acc: 0.9812 - val_loss: 0.2055 - val_acc: 0.9411\n",
      "Epoch 26/31\n",
      "18750/18750 [==============================] - 149s 8ms/step - loss: 0.0584 - acc: 0.9803 - val_loss: 0.3042 - val_acc: 0.9392\n",
      "Epoch 27/31\n",
      "18750/18750 [==============================] - 149s 8ms/step - loss: 0.0531 - acc: 0.9834 - val_loss: 0.3426 - val_acc: 0.9061\n",
      "Epoch 28/31\n",
      "18750/18750 [==============================] - 149s 8ms/step - loss: 0.0532 - acc: 0.9837 - val_loss: 0.2166 - val_acc: 0.9443\n",
      "Epoch 29/31\n",
      "18750/18750 [==============================] - 149s 8ms/step - loss: 0.0575 - acc: 0.9824 - val_loss: 0.8637 - val_acc: 0.8779\n",
      "Epoch 30/31\n",
      "18750/18750 [==============================] - 149s 8ms/step - loss: 0.0520 - acc: 0.9839 - val_loss: 0.3289 - val_acc: 0.9394\n",
      "Epoch 31/31\n",
      "18750/18750 [==============================] - 150s 8ms/step - loss: 0.0557 - acc: 0.9840 - val_loss: 0.3329 - val_acc: 0.9362\n"
     ]
    }
   ],
   "source": [
    "history_rmsprop = model.fit(x=x_train, \n",
    "                  y=y_train, \n",
    "                  batch_size=32, \n",
    "                  epochs=31, \n",
    "                  verbose=1, \n",
    "                  callbacks=callbacks, \n",
    "                  validation_split=0.25, \n",
    "                  shuffle=True, \n",
    "                  initial_epoch=0, \n",
    "                 )"
   ]
  },
  {
   "cell_type": "code",
   "execution_count": 15,
   "metadata": {},
   "outputs": [
    {
     "data": {
      "image/png": "[encoded data removed]",
      "text/plain": [
       "<Figure size 432x288 with 1 Axes>"
      ]
     },
     "metadata": {},
     "output_type": "display_data"
    }
   ],
   "source": [
    "# 绘制训练 & 验证的准确率值\n",
    "plt.plot(history_rmsprop.history['acc'])\n",
    "plt.plot(history_rmsprop.history['val_acc'])\n",
    "plt.title('Model accuracy')\n",
    "plt.ylabel('Accuracy')\n",
    "plt.xlabel('Epoch')\n",
    "plt.legend(['Train', 'Test'], loc='upper left')\n",
    "plt.show()"
   ]
  },
  {
   "cell_type": "code",
   "execution_count": 16,
   "metadata": {},
   "outputs": [
    {
     "data": {
      "image/png": "[encoded data removed]",
      "text/plain": [
       "<Figure size 432x288 with 1 Axes>"
      ]
     },
     "metadata": {},
     "output_type": "display_data"
    }
   ],
   "source": [
    "# 绘制训练 & 验证的损失值\n",
    "plt.plot(history_rmsprop.history['loss'])\n",
    "plt.plot(history_rmsprop.history['val_loss'])\n",
    "plt.title('Model loss')\n",
    "plt.ylabel('Loss')\n",
    "plt.xlabel('Epoch')\n",
    "plt.legend(['Train', 'Test'], loc='upper left')\n",
    "plt.show()"
   ]
  },
  {
   "cell_type": "markdown",
   "metadata": {},
   "source": [
    "# Adam优化器"
   ]
  },
  {
   "cell_type": "code",
   "execution_count": 17,
   "metadata": {},
   "outputs": [
    {
     "name": "stdout",
     "output_type": "stream",
     "text": [
      "<class 'keras.engine.training.Model'>\n"
     ]
    }
   ],
   "source": [
    "base_model = VGG16(weights=None, include_top=False)\n",
    "model_adam = build_model(base_model)\n",
    "opt = keras.optimizers.Adam(lr=0.0001, decay=1e-6)\n",
    "model_adam.compile(loss='categorical_crossentropy',\n",
    "              optimizer=opt,\n",
    "              metrics=['accuracy'])"
   ]
  },
  {
   "cell_type": "code",
   "execution_count": 18,
   "metadata": {},
   "outputs": [
    {
     "name": "stdout",
     "output_type": "stream",
     "text": [
      "Train on 18750 samples, validate on 6250 samples\n",
      "Epoch 1/31\n",
      "18750/18750 [==============================] - 156s 8ms/step - loss: 0.6931 - acc: 0.5063 - val_loss: 0.6933 - val_acc: 0.4968\n",
      "Epoch 2/31\n",
      "18750/18750 [==============================] - 154s 8ms/step - loss: 0.6886 - acc: 0.5349 - val_loss: 0.6833 - val_acc: 0.5645\n",
      "Epoch 3/31\n",
      "18750/18750 [==============================] - 154s 8ms/step - loss: 0.6609 - acc: 0.5978 - val_loss: 0.6289 - val_acc: 0.6405\n",
      "Epoch 4/31\n",
      "18750/18750 [==============================] - 154s 8ms/step - loss: 0.5903 - acc: 0.6838 - val_loss: 0.5691 - val_acc: 0.7050\n",
      "Epoch 5/31\n",
      "18750/18750 [==============================] - 155s 8ms/step - loss: 0.5348 - acc: 0.7327 - val_loss: 0.5175 - val_acc: 0.7478\n",
      "Epoch 6/31\n",
      "18750/18750 [==============================] - 154s 8ms/step - loss: 0.4941 - acc: 0.7611 - val_loss: 0.5113 - val_acc: 0.7526\n",
      "Epoch 7/31\n",
      "18750/18750 [==============================] - 154s 8ms/step - loss: 0.4580 - acc: 0.7858 - val_loss: 0.4280 - val_acc: 0.7987\n",
      "Epoch 8/31\n",
      "18750/18750 [==============================] - 154s 8ms/step - loss: 0.4172 - acc: 0.8067 - val_loss: 0.4252 - val_acc: 0.8053\n",
      "Epoch 9/31\n",
      "18750/18750 [==============================] - 154s 8ms/step - loss: 0.3638 - acc: 0.8396 - val_loss: 0.3364 - val_acc: 0.8533\n",
      "Epoch 10/31\n",
      "18750/18750 [==============================] - 154s 8ms/step - loss: 0.3178 - acc: 0.8627 - val_loss: 0.3066 - val_acc: 0.8680\n",
      "Epoch 11/31\n",
      "18750/18750 [==============================] - 151s 8ms/step - loss: 0.2625 - acc: 0.8916 - val_loss: 0.2740 - val_acc: 0.8858\n",
      "Epoch 12/31\n",
      "18750/18750 [==============================] - 151s 8ms/step - loss: 0.2246 - acc: 0.9053 - val_loss: 0.2420 - val_acc: 0.9062\n",
      "Epoch 13/31\n",
      "18750/18750 [==============================] - 154s 8ms/step - loss: 0.1948 - acc: 0.9173 - val_loss: 0.2518 - val_acc: 0.8997\n",
      "Epoch 14/31\n",
      "18750/18750 [==============================] - 152s 8ms/step - loss: 0.1660 - acc: 0.9311 - val_loss: 0.2084 - val_acc: 0.9154\n",
      "Epoch 15/31\n",
      "18750/18750 [==============================] - 153s 8ms/step - loss: 0.1410 - acc: 0.9415 - val_loss: 0.2070 - val_acc: 0.9165\n",
      "Epoch 16/31\n",
      "18750/18750 [==============================] - 154s 8ms/step - loss: 0.1146 - acc: 0.9547 - val_loss: 0.2219 - val_acc: 0.9163\n",
      "Epoch 17/31\n",
      "18750/18750 [==============================] - 154s 8ms/step - loss: 0.1030 - acc: 0.9579 - val_loss: 0.2076 - val_acc: 0.9205\n",
      "Epoch 18/31\n",
      "18750/18750 [==============================] - 154s 8ms/step - loss: 0.0887 - acc: 0.9647 - val_loss: 0.2024 - val_acc: 0.9246\n",
      "Epoch 19/31\n",
      "18750/18750 [==============================] - 157s 8ms/step - loss: 0.0767 - acc: 0.9690 - val_loss: 0.2190 - val_acc: 0.9168\n",
      "Epoch 20/31\n",
      "18750/18750 [==============================] - 154s 8ms/step - loss: 0.0660 - acc: 0.9741 - val_loss: 0.1916 - val_acc: 0.9267\n",
      "Epoch 21/31\n",
      "18750/18750 [==============================] - 154s 8ms/step - loss: 0.0553 - acc: 0.9785 - val_loss: 0.2195 - val_acc: 0.9320\n",
      "Epoch 22/31\n",
      "18750/18750 [==============================] - 155s 8ms/step - loss: 0.0500 - acc: 0.9814 - val_loss: 0.2419 - val_acc: 0.9293\n",
      "Epoch 23/31\n",
      "18750/18750 [==============================] - 155s 8ms/step - loss: 0.0423 - acc: 0.9834 - val_loss: 0.2677 - val_acc: 0.9197\n",
      "Epoch 24/31\n",
      "18750/18750 [==============================] - 154s 8ms/step - loss: 0.0437 - acc: 0.9835 - val_loss: 0.2509 - val_acc: 0.9314\n",
      "Epoch 25/31\n",
      "18750/18750 [==============================] - 153s 8ms/step - loss: 0.0313 - acc: 0.9883 - val_loss: 0.3868 - val_acc: 0.9096\n",
      "Epoch 26/31\n",
      "18750/18750 [==============================] - 153s 8ms/step - loss: 0.0340 - acc: 0.9875 - val_loss: 0.2802 - val_acc: 0.9245\n",
      "Epoch 27/31\n",
      "18750/18750 [==============================] - 156s 8ms/step - loss: 0.0296 - acc: 0.9890 - val_loss: 0.3197 - val_acc: 0.9286\n",
      "Epoch 28/31\n",
      "18750/18750 [==============================] - 155s 8ms/step - loss: 0.0285 - acc: 0.9898 - val_loss: 0.2980 - val_acc: 0.9288\n",
      "Epoch 29/31\n",
      "18750/18750 [==============================] - 151s 8ms/step - loss: 0.0300 - acc: 0.9881 - val_loss: 0.2608 - val_acc: 0.9310\n",
      "Epoch 30/31\n",
      "18750/18750 [==============================] - 153s 8ms/step - loss: 0.0220 - acc: 0.9920 - val_loss: 0.3560 - val_acc: 0.9194\n",
      "Epoch 31/31\n",
      "18750/18750 [==============================] - 154s 8ms/step - loss: 0.0277 - acc: 0.9903 - val_loss: 0.3067 - val_acc: 0.9200\n"
     ]
    }
   ],
   "source": [
    "history_adam = model_adam.fit(x=x_train, \n",
    "                  y=y_train, \n",
    "                  batch_size=32, \n",
    "                  epochs=31, \n",
    "                  verbose=1, \n",
    "                  callbacks=callbacks, \n",
    "                   validation_split=0.25,  \n",
    "                  shuffle=True, \n",
    "                  initial_epoch=0\n",
    "                 )"
   ]
  },
  {
   "cell_type": "code",
   "execution_count": 19,
   "metadata": {},
   "outputs": [
    {
     "data": {
      "image/png": "[encoded data removed]",
      "text/plain": [
       "<Figure size 432x288 with 1 Axes>"
      ]
     },
     "metadata": {},
     "output_type": "display_data"
    }
   ],
   "source": [
    "# 绘制训练 & 验证的准确率值\n",
    "plt.plot(history_adam.history['acc'])\n",
    "plt.plot(history_adam.history['val_acc'])\n",
    "plt.title('Model accuracy')\n",
    "plt.ylabel('Accuracy')\n",
    "plt.xlabel('Epoch')\n",
    "plt.legend(['Train', 'Test'], loc='upper left')\n",
    "plt.show()"
   ]
  },
  {
   "cell_type": "code",
   "execution_count": 20,
   "metadata": {},
   "outputs": [
    {
     "data": {
      "image/png": "[encoded data removed]",
      "text/plain": [
       "<Figure size 432x288 with 1 Axes>"
      ]
     },
     "metadata": {},
     "output_type": "display_data"
    }
   ],
   "source": [
    "# 绘制训练 & 验证的损失值\n",
    "plt.plot(history_adam.history['loss'])\n",
    "plt.plot(history_adam.history['val_loss'])\n",
    "plt.title('Model loss')\n",
    "plt.ylabel('Loss')\n",
    "plt.xlabel('Epoch')\n",
    "plt.legend(['Train', 'Test'], loc='upper left')\n",
    "plt.show()"
   ]
  },
  {
   "cell_type": "markdown",
   "metadata": {},
   "source": [
    "# SGD优化器"
   ]
  },
  {
   "cell_type": "code",
   "execution_count": 21,
   "metadata": {},
   "outputs": [
    {
     "name": "stdout",
     "output_type": "stream",
     "text": [
      "<class 'keras.engine.training.Model'>\n"
     ]
    }
   ],
   "source": [
    "base_model = VGG16(weights=None, include_top=False)\n",
    "model_sgd = build_model(base_model)\n",
    "opt = keras.optimizers.SGD(lr=0.0001, decay=1e-6)\n",
    "model_sgd.compile(loss='categorical_crossentropy',\n",
    "              optimizer=opt,\n",
    "              metrics=['accuracy'])"
   ]
  },
  {
   "cell_type": "code",
   "execution_count": 22,
   "metadata": {},
   "outputs": [
    {
     "name": "stdout",
     "output_type": "stream",
     "text": [
      "Train on 18750 samples, validate on 6250 samples\n",
      "Epoch 1/31\n",
      "18750/18750 [==============================] - 155s 8ms/step - loss: 0.6931 - acc: 0.5011 - val_loss: 0.6931 - val_acc: 0.4968\n",
      "Epoch 2/31\n",
      "18750/18750 [==============================] - 153s 8ms/step - loss: 0.6931 - acc: 0.5011 - val_loss: 0.6931 - val_acc: 0.4968\n",
      "Epoch 3/31\n",
      "18750/18750 [==============================] - 153s 8ms/step - loss: 0.6931 - acc: 0.5011 - val_loss: 0.6931 - val_acc: 0.4968\n",
      "Epoch 4/31\n",
      "18750/18750 [==============================] - 151s 8ms/step - loss: 0.6931 - acc: 0.5011 - val_loss: 0.6931 - val_acc: 0.4968\n",
      "Epoch 5/31\n",
      "18750/18750 [==============================] - 152s 8ms/step - loss: 0.6931 - acc: 0.5011 - val_loss: 0.6931 - val_acc: 0.4968\n",
      "Epoch 6/31\n",
      "18750/18750 [==============================] - 152s 8ms/step - loss: 0.6931 - acc: 0.5011 - val_loss: 0.6931 - val_acc: 0.4968\n",
      "Epoch 7/31\n",
      "18750/18750 [==============================] - 152s 8ms/step - loss: 0.6931 - acc: 0.5011 - val_loss: 0.6931 - val_acc: 0.4968\n",
      "Epoch 8/31\n",
      "18750/18750 [==============================] - 151s 8ms/step - loss: 0.6931 - acc: 0.5011 - val_loss: 0.6931 - val_acc: 0.4968\n",
      "Epoch 9/31\n",
      "18750/18750 [==============================] - 151s 8ms/step - loss: 0.6931 - acc: 0.5011 - val_loss: 0.6931 - val_acc: 0.4968\n",
      "Epoch 10/31\n",
      "18750/18750 [==============================] - 151s 8ms/step - loss: 0.6931 - acc: 0.5011 - val_loss: 0.6931 - val_acc: 0.4968\n",
      "Epoch 11/31\n",
      "18750/18750 [==============================] - 151s 8ms/step - loss: 0.6931 - acc: 0.5011 - val_loss: 0.6931 - val_acc: 0.4968\n",
      "Epoch 12/31\n",
      "18750/18750 [==============================] - 151s 8ms/step - loss: 0.6930 - acc: 0.5011 - val_loss: 0.6931 - val_acc: 0.4968\n",
      "Epoch 13/31\n",
      "18750/18750 [==============================] - 149s 8ms/step - loss: 0.6930 - acc: 0.5011 - val_loss: 0.6931 - val_acc: 0.4968\n",
      "Epoch 14/31\n",
      "18750/18750 [==============================] - 150s 8ms/step - loss: 0.6930 - acc: 0.5011 - val_loss: 0.6931 - val_acc: 0.4968\n",
      "Epoch 15/31\n",
      "18750/18750 [==============================] - 149s 8ms/step - loss: 0.6930 - acc: 0.5011 - val_loss: 0.6931 - val_acc: 0.4968\n",
      "Epoch 16/31\n",
      "18750/18750 [==============================] - 149s 8ms/step - loss: 0.6930 - acc: 0.5011 - val_loss: 0.6931 - val_acc: 0.4968\n",
      "Epoch 17/31\n",
      "18750/18750 [==============================] - 150s 8ms/step - loss: 0.6930 - acc: 0.5010 - val_loss: 0.6931 - val_acc: 0.4968\n",
      "Epoch 18/31\n",
      "18750/18750 [==============================] - 151s 8ms/step - loss: 0.6930 - acc: 0.5010 - val_loss: 0.6931 - val_acc: 0.4966\n",
      "Epoch 19/31\n",
      "18750/18750 [==============================] - 150s 8ms/step - loss: 0.6930 - acc: 0.5011 - val_loss: 0.6931 - val_acc: 0.4966\n",
      "Epoch 20/31\n",
      "18750/18750 [==============================] - 150s 8ms/step - loss: 0.6930 - acc: 0.5010 - val_loss: 0.6931 - val_acc: 0.4966\n",
      "Epoch 21/31\n",
      "18750/18750 [==============================] - 149s 8ms/step - loss: 0.6930 - acc: 0.5011 - val_loss: 0.6931 - val_acc: 0.4966\n",
      "Epoch 22/31\n",
      "18750/18750 [==============================] - 148s 8ms/step - loss: 0.6930 - acc: 0.5011 - val_loss: 0.6931 - val_acc: 0.4970\n",
      "Epoch 23/31\n",
      "18750/18750 [==============================] - 149s 8ms/step - loss: 0.6930 - acc: 0.5013 - val_loss: 0.6931 - val_acc: 0.4971\n",
      "Epoch 24/31\n",
      "18750/18750 [==============================] - 148s 8ms/step - loss: 0.6930 - acc: 0.5015 - val_loss: 0.6931 - val_acc: 0.4971\n",
      "Epoch 25/31\n",
      "18750/18750 [==============================] - 148s 8ms/step - loss: 0.6930 - acc: 0.5014 - val_loss: 0.6931 - val_acc: 0.4978\n",
      "Epoch 26/31\n",
      "18750/18750 [==============================] - 148s 8ms/step - loss: 0.6930 - acc: 0.5017 - val_loss: 0.6931 - val_acc: 0.4984\n",
      "Epoch 27/31\n",
      "18750/18750 [==============================] - 148s 8ms/step - loss: 0.6930 - acc: 0.5022 - val_loss: 0.6931 - val_acc: 0.4984\n",
      "Epoch 28/31\n",
      "18750/18750 [==============================] - 148s 8ms/step - loss: 0.6930 - acc: 0.5023 - val_loss: 0.6930 - val_acc: 0.4982\n",
      "Epoch 29/31\n",
      "18750/18750 [==============================] - 149s 8ms/step - loss: 0.6930 - acc: 0.5031 - val_loss: 0.6930 - val_acc: 0.4990\n",
      "Epoch 30/31\n",
      "18750/18750 [==============================] - 150s 8ms/step - loss: 0.6930 - acc: 0.5033 - val_loss: 0.6930 - val_acc: 0.4995\n",
      "Epoch 00030: early stopping\n"
     ]
    }
   ],
   "source": [
    "history_sgd = model_sgd.fit(x=x_train, \n",
    "                  y=y_train, \n",
    "                  batch_size=32, \n",
    "                  epochs=31, \n",
    "                  verbose=1, \n",
    "                  callbacks=callbacks, \n",
    "                  validation_split=0.25,\n",
    "                  shuffle=True, \n",
    "                  initial_epoch=0, \n",
    "                 )"
   ]
  },
  {
   "cell_type": "code",
   "execution_count": 23,
   "metadata": {},
   "outputs": [
    {
     "data": {
      "image/png": "[encoded data removed]",
      "text/plain": [
       "<Figure size 432x288 with 1 Axes>"
      ]
     },
     "metadata": {},
     "output_type": "display_data"
    }
   ],
   "source": [
    "# 绘制训练 & 验证的准确率值\n",
    "plt.plot(history_sgd.history['acc'])\n",
    "plt.plot(history_sgd.history['val_acc'])\n",
    "plt.title('Model accuracy')\n",
    "plt.ylabel('Accuracy')\n",
    "plt.xlabel('Epoch')\n",
    "plt.legend(['Train', 'Test'], loc='upper left')\n",
    "plt.show()"
   ]
  },
  {
   "cell_type": "code",
   "execution_count": 24,
   "metadata": {},
   "outputs": [
    {
     "data": {
      "image/png": "[encoded data removed]",
      "text/plain": [
       "<Figure size 432x288 with 1 Axes>"
      ]
     },
     "metadata": {},
     "output_type": "display_data"
    }
   ],
   "source": [
    "# 绘制训练 & 验证的损失值\n",
    "plt.plot(history_sgd.history['loss'])\n",
    "plt.plot(history_sgd.history['val_loss'])\n",
    "plt.title('Model loss')\n",
    "plt.ylabel('Loss')\n",
    "plt.xlabel('Epoch')\n",
    "plt.legend(['Train', 'Test'], loc='upper left')\n",
    "plt.show()"
   ]
  }
 ],
 "metadata": {
  "kernelspec": {
   "display_name": "TensorFlow-1.13.1",
   "language": "python",
   "name": "tensorflow-1.13.1"
  },
  "language_info": {
   "codemirror_mode": {
    "name": "ipython",
    "version": 3
   },
   "file_extension": ".py",
   "mimetype": "text/x-python",
   "name": "python",
   "nbconvert_exporter": "python",
   "pygments_lexer": "ipython3",
   "version": "3.6.4"
  }
 },
 "nbformat": 4,
 "nbformat_minor": 2
}
